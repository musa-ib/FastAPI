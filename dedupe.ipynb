{
 "cells": [
  {
   "cell_type": "code",
   "execution_count": 11,
   "id": "5210f63e",
   "metadata": {},
   "outputs": [],
   "source": [
    "from simhash import Simhash"
   ]
  },
  {
   "cell_type": "code",
   "execution_count": 12,
   "id": "09d43f6a",
   "metadata": {},
   "outputs": [],
   "source": [
    "def make_features(input_str):\n",
    "    length = 2\n",
    "    out_str = []\n",
    "    input_str = (input_str.lower()).replace(' ','')\n",
    "    if len(input_str)<length:\n",
    "        return [input_str]\n",
    "    for i in range(len(input_str)):\n",
    "        if len(input_str[i:length+i])==length:\n",
    "            out_str.append(input_str[i:length+i])\n",
    "    return out_str"
   ]
  },
  {
   "cell_type": "code",
   "execution_count": 13,
   "id": "445dc1f5",
   "metadata": {},
   "outputs": [],
   "source": [
    "def make_simhash(input_str):\n",
    "    features = make_features(input_str)\n",
    "    return Simhash(features).value"
   ]
  },
  {
   "cell_type": "code",
   "execution_count": 14,
   "id": "fcafbffb",
   "metadata": {},
   "outputs": [],
   "source": [
    "def hamming_distance(hash1, hash2):\n",
    "    return bin(hash1 ^ hash2).count('1')"
   ]
  },
  {
   "cell_type": "code",
   "execution_count": 15,
   "id": "a500e590",
   "metadata": {},
   "outputs": [],
   "source": [
    "def dedupe(document):\n",
    "    hashes =[]\n",
    "    dedupe_doc = []\n",
    "    for doc in document:\n",
    "        is_dup = False\n",
    "        for hash in hashes:\n",
    "            if hamming_distance(make_simhash(doc),hash)<=10:\n",
    "                is_dup = True\n",
    "                break\n",
    "        if is_dup==False:\n",
    "            hashes.append(make_simhash(doc))\n",
    "            dedupe_doc.append(doc)\n",
    "    return dedupe_doc"
   ]
  },
  {
   "cell_type": "code",
   "execution_count": 16,
   "id": "140d0ae4",
   "metadata": {},
   "outputs": [
    {
     "name": "stdout",
     "output_type": "stream",
     "text": [
      "['Hello World', 'Good Bye!', 'hello, world', 'Halloworld']\n"
     ]
    }
   ],
   "source": [
    "document = [\n",
    "    \"Hello World\",\n",
    "    \"HellOW orld!\",\n",
    "    \"Good Bye!\",\n",
    "    \"hello, world\",\n",
    "    \"Halloworld\",\n",
    "    \"helllo world\",\n",
    "    \"helloworld1\"\n",
    "]\n",
    "print(dedupe(document))"
   ]
  },
  {
   "cell_type": "code",
   "execution_count": null,
   "id": "83e9bab1",
   "metadata": {},
   "outputs": [],
   "source": []
  }
 ],
 "metadata": {
  "kernelspec": {
   "display_name": "fastapi_venv",
   "language": "python",
   "name": "python3"
  },
  "language_info": {
   "codemirror_mode": {
    "name": "ipython",
    "version": 3
   },
   "file_extension": ".py",
   "mimetype": "text/x-python",
   "name": "python",
   "nbconvert_exporter": "python",
   "pygments_lexer": "ipython3",
   "version": "3.12.3"
  }
 },
 "nbformat": 4,
 "nbformat_minor": 5
}
